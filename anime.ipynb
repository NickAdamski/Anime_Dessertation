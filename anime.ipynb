{
 "cells": [
  {
   "attachments": {},
   "cell_type": "markdown",
   "metadata": {},
   "source": [
    "# Dissertation Project: PCA and Linear Regression on Anime Ratings\n",
    "This project aims to test the hypothesis that applying Principal Component Analysis (PCA) as a dimensionality reduction technique for the extracted TF-IDF features and user review category scores can improve the performance of a Linear Regression model used to predict overall anime ratings, as measured by lower Mean Squared Error (MSE) and Mean Absolute Error (MAE) on the validation and test datasets, compared to a Linear Regression model without PCA."
   ]
  },
  {
   "cell_type": "code",
   "execution_count": 1,
   "metadata": {},
   "outputs": [],
   "source": [
    "# Import necessary libraries\n",
    "import pandas as pd\n",
    "import numpy as np\n",
    "from sklearn.feature_extraction.text import TfidfVectorizer\n",
    "from sklearn.decomposition import PCA\n",
    "from sklearn.linear_model import LinearRegression\n",
    "from sklearn.model_selection import train_test_split\n",
    "from sklearn.metrics import mean_squared_error, mean_absolute_error"
   ]
  },
  {
   "attachments": {},
   "cell_type": "markdown",
   "metadata": {},
   "source": [
    "# Data Loading and Preprocessing\n",
    "We will load the datasets, preprocess the data and extract the necessary features for our analysis.\n"
   ]
  },
  {
   "cell_type": "code",
   "execution_count": 2,
   "metadata": {},
   "outputs": [],
   "source": [
    "# Load datasets\n",
    "animes = pd.read_csv(\"animes.csv\")\n",
    "profiles = pd.read_csv(\"profiles.csv\")\n",
    "reviews = pd.read_csv(\"reviews.csv\")\n",
    "\n",
    "# Merge animes and reviews datasets\n",
    "merged_data = reviews.merge(animes, left_on='anime_uid', right_on='uid')\n",
    "\n",
    "# Preprocess text data\n",
    "merged_data['text'] = merged_data['text'].str.lower()\n",
    "\n",
    "# Calculate average review score\n",
    "merged_data['avg_review_score'] = merged_data[['score_x', 'score_y']].mean(axis=1)\n"
   ]
  },
  {
   "attachments": {},
   "cell_type": "markdown",
   "metadata": {},
   "source": [
    "# Feature Extraction using TF-IDF\n",
    "We will use the TF-IDF method to extract features from the review text.\n"
   ]
  },
  {
   "cell_type": "code",
   "execution_count": 3,
   "metadata": {},
   "outputs": [],
   "source": [
    "# Extract features using TF-IDF\n",
    "vectorizer = TfidfVectorizer(max_features=5000, stop_words='english')\n",
    "X = vectorizer.fit_transform(merged_data['text'])\n",
    "\n",
    "# Create target variable\n",
    "y = merged_data['avg_review_score']\n"
   ]
  },
  {
   "attachments": {},
   "cell_type": "markdown",
   "metadata": {},
   "source": [
    "# Train-Validation-Test Split\n",
    "We will split the data into train, validation, and test sets."
   ]
  },
  {
   "cell_type": "code",
   "execution_count": 4,
   "metadata": {},
   "outputs": [],
   "source": [
    "# Split data into train, validation, and test sets\n",
    "X_train_val, X_test, y_train_val, y_test = train_test_split(X, y, test_size=0.2, random_state=42)\n",
    "X_train, X_val, y_train, y_val = train_test_split(X_train_val, y_train_val, test_size=0.25, random_state=42)"
   ]
  },
  {
   "attachments": {},
   "cell_type": "markdown",
   "metadata": {},
   "source": [
    "# PCA for Dimensionality Reduction\n",
    "We will apply PCA to reduce the dimensionality of the extracted features."
   ]
  },
  {
   "cell_type": "code",
   "execution_count": 5,
   "metadata": {},
   "outputs": [],
   "source": [
    "# Apply PCA for dimensionality reduction\n",
    "pca = PCA(n_components=100)\n",
    "X_train_pca = pca.fit_transform(X_train.toarray())\n",
    "X_val_pca = pca.transform(Xi_val.toarray())\n",
    "X_test_pca = pca.transform(X_test.toarray())"
   ]
  },
  {
   "attachments": {},
   "cell_type": "markdown",
   "metadata": {},
   "source": [
    "# Linear Regression Model\n",
    "We will train Linear Regression models with and without PCA, and compare their performance on validation and test datasets.\n"
   ]
  },
  {
   "cell_type": "code",
   "execution_count": null,
   "metadata": {},
   "outputs": [],
   "source": [
    "# Train Linear Regression models with and without PCA\n",
    "lr_no_pca = LinearRegression()\n",
    "lr_pca = LinearRegression()\n",
    "\n",
    "lr_pca.fit(X_train_pca, y_train)\n",
    "\n",
    "# Predictions on validation and test datasets\n",
    "y_val_pred_no_pca = lr_no_pca.predict(X_val)\n",
    "y_val_pred_pca = lr_pca.predict(X_val_pca)\n",
    "y_test_pred_no_pca = lr_no_pca.predict(X_test)\n",
    "y_test_pred_pca = lr_pca.predict(X_test_pca)\n",
    "\n",
    "# Calculate MSE and MAE for models with and without PCA\n",
    "mse_val_no_pca = mean_squared_error(y_val, y_val_pred_no_pca)\n",
    "mse_val_pca = mean_squared_error(y_val, y_val_pred_pca)\n",
    "mae_val_no_pca = mean_absolute_error(y_val, y_val_pred_no_pca)\n",
    "mae_val_pca = mean_absolute_error(y_val, y_val_pred_pca)\n",
    "\n",
    "mse_test_no_pca = mean_squared_error(y_test, y_test_pred_no_pca)\n",
    "mse_test_pca = mean_squared_error(y_test, y_test_pred_pca)\n",
    "mae_test_no_pca = mean_absolute_error(y_test, y_test_pred_no_pca)\n",
    "mae_test_pca = mean_absolute_error(y_test, y_test_pred_pca)\n",
    "\n",
    "# Print results\n",
    "print(\"Validation MSE without PCA:\", mse_val_no_pca)\n",
    "print(\"Validation MSE with PCA:\", mse_val_pca)\n",
    "print(\"Validation MAE without PCA:\", mae_val_no_pca)\n",
    "print(\"Validation MAE with PCA:\", mae_val_pca)\n",
    "print(\"\\nTest MSE without PCA:\", mse_test_no_pca)\n",
    "print(\"Test MSE with PCA:\", mse_test_pca)\n",
    "print(\"Test MAE without PCA:\", mae_test_no_pca)\n",
    "print(\"Test MAE with PCA:\", mae_test_pca)\n"
   ]
  }
 ],
 "metadata": {
  "kernelspec": {
   "display_name": "Python 3",
   "language": "python",
   "name": "python3"
  },
  "language_info": {
   "codemirror_mode": {
    "name": "ipython",
    "version": 3
   },
   "file_extension": ".py",
   "mimetype": "text/x-python",
   "name": "python",
   "nbconvert_exporter": "python",
   "pygments_lexer": "ipython3",
   "version": "3.7.0"
  },
  "orig_nbformat": 4
 },
 "nbformat": 4,
 "nbformat_minor": 2
}
